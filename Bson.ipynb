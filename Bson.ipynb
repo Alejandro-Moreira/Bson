{
 "cells": [
  {
   "cell_type": "code",
   "execution_count": 1,
   "id": "39c3d74c",
   "metadata": {},
   "outputs": [
    {
     "name": "stdout",
     "output_type": "stream",
     "text": [
      "Collecting pymongo\n",
      "  Downloading pymongo-4.4.0-cp311-cp311-win_amd64.whl (453 kB)\n",
      "                                              0.0/453.6 kB ? eta -:--:--\n",
      "     --                                    30.7/453.6 kB 660.6 kB/s eta 0:00:01\n",
      "     --                                    30.7/453.6 kB 660.6 kB/s eta 0:00:01\n",
      "     --                                    30.7/453.6 kB 660.6 kB/s eta 0:00:01\n",
      "     --                                    30.7/453.6 kB 660.6 kB/s eta 0:00:01\n",
      "     ---------                            122.9/453.6 kB 514.3 kB/s eta 0:00:01\n",
      "     ------------                         153.6/453.6 kB 573.4 kB/s eta 0:00:01\n",
      "     ---------------                      194.6/453.6 kB 588.9 kB/s eta 0:00:01\n",
      "     -----------------                    225.3/453.6 kB 597.3 kB/s eta 0:00:01\n",
      "     ------------------                   235.5/453.6 kB 554.9 kB/s eta 0:00:01\n",
      "     ---------------------                276.5/453.6 kB 607.9 kB/s eta 0:00:01\n",
      "     ------------------------             307.2/453.6 kB 612.3 kB/s eta 0:00:01\n",
      "     --------------------------           337.9/453.6 kB 599.0 kB/s eta 0:00:01\n",
      "     -----------------------------        368.6/453.6 kB 620.1 kB/s eta 0:00:01\n",
      "     -------------------------------      399.4/453.6 kB 622.6 kB/s eta 0:00:01\n",
      "     ----------------------------------   430.1/453.6 kB 624.8 kB/s eta 0:00:01\n",
      "     ----------------------------------   430.1/453.6 kB 624.8 kB/s eta 0:00:01\n",
      "     ----------------------------------   430.1/453.6 kB 624.8 kB/s eta 0:00:01\n",
      "     ------------------------------------ 453.6/453.6 kB 556.3 kB/s eta 0:00:00\n",
      "Collecting dnspython<3.0.0,>=1.16.0 (from pymongo)\n",
      "  Downloading dnspython-2.3.0-py3-none-any.whl (283 kB)\n",
      "                                              0.0/283.7 kB ? eta -:--:--\n",
      "     ----                                  30.7/283.7 kB 660.6 kB/s eta 0:00:01\n",
      "     -----                                 41.0/283.7 kB 495.5 kB/s eta 0:00:01\n",
      "     ----------                            81.9/283.7 kB 573.4 kB/s eta 0:00:01\n",
      "     ------------                          92.2/283.7 kB 585.1 kB/s eta 0:00:01\n",
      "     ---------------                      122.9/283.7 kB 516.7 kB/s eta 0:00:01\n",
      "     ------------------                   143.4/283.7 kB 568.9 kB/s eta 0:00:01\n",
      "     ----------------------               174.1/283.7 kB 553.5 kB/s eta 0:00:01\n",
      "     -------------------------            204.8/283.7 kB 567.2 kB/s eta 0:00:01\n",
      "     ----------------------------         225.3/283.7 kB 551.4 kB/s eta 0:00:01\n",
      "     --------------------------------     256.0/283.7 kB 562.4 kB/s eta 0:00:01\n",
      "     ------------------------------------ 283.7/283.7 kB 546.9 kB/s eta 0:00:00\n",
      "Installing collected packages: dnspython, pymongo\n",
      "Successfully installed dnspython-2.3.0 pymongo-4.4.0\n",
      "Note: you may need to restart the kernel to use updated packages.\n"
     ]
    },
    {
     "name": "stderr",
     "output_type": "stream",
     "text": [
      "\n",
      "[notice] A new release of pip is available: 23.1 -> 23.1.2\n",
      "[notice] To update, run: python.exe -m pip install --upgrade pip\n"
     ]
    }
   ],
   "source": [
    "pip install pymongo"
   ]
  },
  {
   "cell_type": "code",
   "execution_count": 2,
   "id": "66ad6ee8",
   "metadata": {},
   "outputs": [],
   "source": [
    "from pymongo import MongoClient"
   ]
  },
  {
   "cell_type": "code",
   "execution_count": 3,
   "id": "7dada0c5",
   "metadata": {},
   "outputs": [],
   "source": [
    "client=MongoClient('127.0.0.1',27017)"
   ]
  },
  {
   "cell_type": "code",
   "execution_count": 4,
   "id": "783996da",
   "metadata": {},
   "outputs": [],
   "source": [
    "client=MongoClient('mongodb://localhost:27017')"
   ]
  },
  {
   "cell_type": "code",
   "execution_count": 5,
   "id": "46f05ce5",
   "metadata": {},
   "outputs": [],
   "source": [
    "mydatabase=client['vehiculos'] #tambien podemos poner client.vehiculos"
   ]
  },
  {
   "cell_type": "code",
   "execution_count": 7,
   "id": "bf161c9d",
   "metadata": {},
   "outputs": [],
   "source": [
    "mycollection=mydatabase.vehiculos  #tambien podemos poner mydatabase['vehiculos']"
   ]
  },
  {
   "cell_type": "code",
   "execution_count": 8,
   "id": "0d66cb8d",
   "metadata": {},
   "outputs": [
    {
     "name": "stdout",
     "output_type": "stream",
     "text": [
      "<pymongo.cursor.Cursor object at 0x000001B2422F8710>\n"
     ]
    }
   ],
   "source": [
    "print(mydatabase.mycollection.find({\"score\": 78}))"
   ]
  },
  {
   "cell_type": "code",
   "execution_count": 9,
   "id": "22c08c04",
   "metadata": {},
   "outputs": [],
   "source": [
    "myquery={\"score\":78}"
   ]
  },
  {
   "cell_type": "code",
   "execution_count": 10,
   "id": "834b80f4",
   "metadata": {},
   "outputs": [],
   "source": [
    "mydoc=mycollection.find(myquery)"
   ]
  },
  {
   "cell_type": "code",
   "execution_count": 11,
   "id": "2ca2a34b",
   "metadata": {},
   "outputs": [
    {
     "data": {
      "text/plain": [
       "<pymongo.cursor.Cursor at 0x1b2439519d0>"
      ]
     },
     "execution_count": 11,
     "metadata": {},
     "output_type": "execute_result"
    }
   ],
   "source": [
    "mydoc"
   ]
  },
  {
   "cell_type": "code",
   "execution_count": 12,
   "id": "6c8c86f5",
   "metadata": {},
   "outputs": [],
   "source": [
    "client = MongoClient('mongodb://localhost:27017/')\n",
    "filter={\n",
    "    'names': 'Creed III'\n",
    "}\n",
    "result = client['vehiculos']['Database'].find(\n",
    "  filter=filter\n",
    ")"
   ]
  },
  {
   "cell_type": "code",
   "execution_count": 13,
   "id": "3fe175ec",
   "metadata": {},
   "outputs": [],
   "source": [
    "for doc in mydoc:\n",
    "    print(doc)"
   ]
  },
  {
   "cell_type": "code",
   "execution_count": 14,
   "id": "8f555727",
   "metadata": {},
   "outputs": [
    {
     "data": {
      "text/plain": [
       "<pymongo.cursor.Cursor at 0x1b243886410>"
      ]
     },
     "execution_count": 14,
     "metadata": {},
     "output_type": "execute_result"
    }
   ],
   "source": [
    "result"
   ]
  },
  {
   "cell_type": "code",
   "execution_count": 15,
   "id": "f4349fb8",
   "metadata": {},
   "outputs": [],
   "source": [
    "mycollection2=mydatabase.clientes"
   ]
  },
  {
   "cell_type": "code",
   "execution_count": 16,
   "id": "2593508e",
   "metadata": {},
   "outputs": [],
   "source": [
    "mydict={\"nombre\": \"Pedro\", \"apellido\": \"Perez\"}\n",
    "x=mycollection2.insert_one(mydict)"
   ]
  },
  {
   "cell_type": "code",
   "execution_count": 17,
   "id": "066cf94a",
   "metadata": {},
   "outputs": [],
   "source": [
    "mydict={\"nombre\": \"Alejandro\", \"apellido\": \"Moreira\"}\n",
    "x=mycollection2.insert_one(mydict)\n",
    "mydict={\"nombre\": \"Jared\", \"apellido\": \"Valenzuela\"}\n",
    "x=mycollection2.insert_one(mydict)\n",
    "mydict={\"nombre\": \"Joseph\", \"apellido\": \"Yepez\"}\n",
    "x=mycollection2.insert_one(mydict)\n",
    "mydict={\"nombre\": \"Roberto\", \"apellido\": \"Shiao\"}\n",
    "x=mycollection2.insert_one(mydict)\n",
    "mydict={\"nombre\": \"Alexis\", \"apellido\": \"Chasi\"}\n",
    "x=mycollection2.insert_one(mydict)\n",
    "mydict={\"nombre\": \"Elvis\", \"apellido\": \"Guanolisa\"}\n",
    "x=mycollection2.insert_one(mydict)\n",
    "mydict={\"nombre\": \"Juan\", \"apellido\": \"Falconi\"}\n",
    "x=mycollection2.insert_one(mydict)\n",
    "mydict={\"nombre\": \"Gabriel\", \"apellido\": \"Grijalva\"}\n",
    "x=mycollection2.insert_one(mydict)\n",
    "mydict={\"nombre\": \"Nicolas\", \"apellido\": \"Astudillo\"}\n",
    "x=mycollection2.insert_one(mydict)\n",
    "mydict={\"nombre\": \"Jordan\", \"apellido\": \"Perez\"}\n",
    "x=mycollection2.insert_one(mydict)\n",
    "mydict={\"nombre\": \"Dilan\", \"apellido\": \"Garces\"}\n",
    "x=mycollection2.insert_one(mydict)"
   ]
  },
  {
   "cell_type": "code",
   "execution_count": 19,
   "id": "7012d4e9",
   "metadata": {},
   "outputs": [
    {
     "name": "stdout",
     "output_type": "stream",
     "text": [
      "{'_id': ObjectId('64a441fcff5a2458b0660a99'), 'nombre': 'Alejandro', 'apellido': 'Moreira'}\n"
     ]
    }
   ],
   "source": [
    "client = MongoClient('mongodb://localhost:27017/')\n",
    "filter={\n",
    "    'nombre': 'Alejandro'\n",
    "}\n",
    "\n",
    "result = client['vehiculos']['clientes'].find(\n",
    "  filter=filter\n",
    ")\n",
    "for doc in result:\n",
    "    print(doc)"
   ]
  },
  {
   "cell_type": "code",
   "execution_count": 38,
   "id": "9d3b32a7",
   "metadata": {},
   "outputs": [],
   "source": [
    "mydatabase=client['Alumnos']\n",
    "mycollection=mydatabase['Alumnos']"
   ]
  },
  {
   "cell_type": "code",
   "execution_count": 39,
   "id": "56743b48",
   "metadata": {},
   "outputs": [],
   "source": [
    "nombre= ['Joel','Andy','Mateo','Daniel','Jonathan']\n",
    "apellido= ['Falconi','Figueroa','Garcia','Gomez','Paredes']"
   ]
  },
  {
   "cell_type": "code",
   "execution_count": 40,
   "id": "aa7e0799",
   "metadata": {},
   "outputs": [
    {
     "name": "stdout",
     "output_type": "stream",
     "text": [
      "Andy Gomez\n"
     ]
    }
   ],
   "source": [
    "def generar_nombre_aleatorio():\n",
    "    nombre_aleatorio = random.choice(nombre)\n",
    "    apellido_aleatorio = random.choice(apellido)\n",
    "    nombre_completo = nombre_aleatorio + ' ' + apellido_aleatorio\n",
    "    return nombre_completo\n",
    "# Generar un nombre al azar\n",
    "nombre_aleatorio = generar_nombre_aleatorio()\n",
    "print(nombre_aleatorio)"
   ]
  },
  {
   "cell_type": "code",
   "execution_count": 41,
   "id": "bfdcc154",
   "metadata": {},
   "outputs": [
    {
     "name": "stdout",
     "output_type": "stream",
     "text": [
      "{'_id': ObjectId('64a44ee9ff5a2458b0660ab0'), 'Nombre': 'Joel', '': 'Paredes'}\n",
      "{'_id': ObjectId('64a44ee9ff5a2458b0660ab1'), 'Nombre': 'Joel', '': 'Paredes'}\n",
      "{'_id': ObjectId('64a44ee9ff5a2458b0660ab2'), 'Nombre': 'Jonathan', '': 'Falconi'}\n",
      "{'_id': ObjectId('64a44ee9ff5a2458b0660ab3'), 'Nombre': 'Jonathan', '': 'Garcia'}\n",
      "{'_id': ObjectId('64a44ee9ff5a2458b0660ab4'), 'Nombre': 'Daniel', '': 'Paredes'}\n",
      "{'_id': ObjectId('64a44ee9ff5a2458b0660ab5'), 'Nombre': 'Mateo', '': 'Paredes'}\n",
      "{'_id': ObjectId('64a44ee9ff5a2458b0660ab6'), 'Nombre': 'Andy', '': 'Garcia'}\n",
      "{'_id': ObjectId('64a44ee9ff5a2458b0660ab7'), 'Nombre': 'Mateo', '': 'Paredes'}\n",
      "{'_id': ObjectId('64a44ee9ff5a2458b0660ab8'), 'Nombre': 'Joel', '': 'Figueroa'}\n",
      "{'_id': ObjectId('64a44ee9ff5a2458b0660ab9'), 'Nombre': 'Andy', '': 'Figueroa'}\n"
     ]
    }
   ],
   "source": [
    "import random\n",
    "# Generar nombres y apellidos aleatorios e insertarlos en la colección\n",
    "for _ in range(10):  # Insertar 10 documentos aleatorios\n",
    "    random.shuffle(nombre)\n",
    "    random.shuffle(apellido)\n",
    "    name = nombre[0]\n",
    "    lastName = apellido[0]\n",
    "\n",
    "    document = {\"Nombre\": name, \"\": lastName}\n",
    "    mycollection.insert_one(document)\n",
    "\n",
    "# Consultar todos los documentos de la colección\n",
    "documents = mycollection.find()\n",
    "for document in documents:\n",
    "    print(document)"
   ]
  }
 ],
 "metadata": {
  "kernelspec": {
   "display_name": "Python 3 (ipykernel)",
   "language": "python",
   "name": "python3"
  },
  "language_info": {
   "codemirror_mode": {
    "name": "ipython",
    "version": 3
   },
   "file_extension": ".py",
   "mimetype": "text/x-python",
   "name": "python",
   "nbconvert_exporter": "python",
   "pygments_lexer": "ipython3",
   "version": "3.11.3"
  }
 },
 "nbformat": 4,
 "nbformat_minor": 5
}
